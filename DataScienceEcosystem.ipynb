{
 "cells": [
  {
   "cell_type": "markdown",
   "id": "53d46124-6eca-4d9d-8ad2-5e19eaaae7e6",
   "metadata": {},
   "source": [
    "# Data Science Tools and Ecosystem"
   ]
  },
  {
   "cell_type": "markdown",
   "id": "aa2dc44a-a35a-4180-84de-70048fafaf2b",
   "metadata": {},
   "source": [
    "In this notebook, Data Science Tools and Ecosystem are summarized."
   ]
  },
  {
   "cell_type": "markdown",
   "id": "d3adc5fa-b5e3-4ba9-9fd2-3fd1babe80cf",
   "metadata": {
    "tags": []
   },
   "source": [
    "Some of the popular languages that Data Scientists use are:\n",
    "\n",
    "    1. Python\n",
    "    2. R\n",
    "    3. Julia"
   ]
  },
  {
   "cell_type": "markdown",
   "id": "488fef89-7b25-4d8f-92f5-8b4f6062b1b6",
   "metadata": {},
   "source": [
    "Some of the commonly used libraries used by Data Scientists include:\n",
    "\n",
    "    1. Pandas\n",
    "    2. Matplotlib\n",
    "    3. Scikit-learn"
   ]
  },
  {
   "cell_type": "markdown",
   "id": "289e05a6-01aa-4924-9231-9630fd68df4f",
   "metadata": {},
   "source": [
    "|Data Science Tools|\n",
    "|------------------|\n",
    "|Rstudio|\n",
    "|Jupyter lab|\n",
    "|Visual Studio Code|"
   ]
  },
  {
   "cell_type": "markdown",
   "id": "a678e007-6bf6-4e1c-878a-c08419481578",
   "metadata": {},
   "source": [
    "Below are a few examples of evaluating arithmetic expressions in Python.\n"
   ]
  },
  {
   "cell_type": "code",
   "execution_count": 11,
   "id": "5632a38b-2ff5-4f0c-ae1d-df7464d6bea5",
   "metadata": {
    "tags": []
   },
   "outputs": [
    {
     "data": {
      "text/plain": [
       "17"
      ]
     },
     "execution_count": 11,
     "metadata": {},
     "output_type": "execute_result"
    }
   ],
   "source": [
    "# This a simple arithmetic expression to mutiply then add integers\n",
    "(3*4)+5"
   ]
  },
  {
   "cell_type": "code",
   "execution_count": 13,
   "id": "b7e76a70-65ae-4de4-aa68-dfe8b47e375f",
   "metadata": {
    "tags": []
   },
   "outputs": [
    {
     "data": {
      "text/plain": [
       "3.3333333333333335"
      ]
     },
     "execution_count": 13,
     "metadata": {},
     "output_type": "execute_result"
    }
   ],
   "source": [
    "#This will convert 200 minutes to hours by diving by 60\n",
    "200/60"
   ]
  },
  {
   "cell_type": "markdown",
   "id": "58f276f2-36cb-4ef7-a9c6-3f6341b3f454",
   "metadata": {},
   "source": [
    "# __Objectives:__\n",
    "* List popular languages for Data Science\n",
    "* List commonly used libraries for Data Science\n",
    "* List commonly used Data Science tools"
   ]
  },
  {
   "cell_type": "markdown",
   "id": "59319fe8-f40f-4901-8f16-85c0939589e0",
   "metadata": {
    "tags": []
   },
   "source": [
    "## Author\n",
    "João Salgado"
   ]
  }
 ],
 "metadata": {
  "kernelspec": {
   "display_name": "Python 3 (ipykernel)",
   "language": "python",
   "name": "python3"
  },
  "language_info": {
   "codemirror_mode": {
    "name": "ipython",
    "version": 3
   },
   "file_extension": ".py",
   "mimetype": "text/x-python",
   "name": "python",
   "nbconvert_exporter": "python",
   "pygments_lexer": "ipython3",
   "version": "3.11.7"
  }
 },
 "nbformat": 4,
 "nbformat_minor": 5
}
